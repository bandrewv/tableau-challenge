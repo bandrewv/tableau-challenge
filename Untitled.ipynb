{
 "cells": [
  {
   "cell_type": "code",
   "execution_count": 4,
   "metadata": {},
   "outputs": [],
   "source": [
    "import pandas as pd\n",
    "import numpy as np"
   ]
  },
  {
   "cell_type": "code",
   "execution_count": 59,
   "metadata": {},
   "outputs": [],
   "source": [
    "# Reading in CSV's for each of the 12 months in my final dataset\n",
    "twenty_oct_data = \"Resources/Data/202010-citibike-tripdata-hw.csv\"\n",
    "twenty_jul_data = \"Resources/Data/202007-citibike-tripdata-hw.csv\"\n",
    "twenty_apr_data = \"Resources/Data/202004-citibike-tripdata-hw.csv\"\n",
    "twenty_jan_data = \"Resources/Data/202001-citibike-tripdata-hw.csv\"\n",
    "nineteen_oct_data = \"Resources/Data/201910-citibike-tripdata-hw.csv\"\n",
    "nineteen_jul_data = \"Resources/Data/201907-citibike-tripdata-hw.csv\"\n",
    "nineteen_apr_data = \"Resources/Data/201904-citibike-tripdata-hw.csv\"\n",
    "nineteen_jan_data = \"Resources/Data/201901-citibike-tripdata-hw.csv\"\n",
    "eighteen_oct_data = \"Resources/Data/201810-citibike-tripdata-hw.csv\"\n",
    "eighteen_jul_data = \"Resources/Data/201807-citibike-tripdata-hw.csv\"\n",
    "eighteen_apr_data = \"Resources/Data/201804-citibike-tripdata-hw.csv\"\n",
    "eighteen_jan_data = \"Resources/Data/201801-citibike-tripdata-hw.csv\""
   ]
  },
  {
   "cell_type": "code",
   "execution_count": 60,
   "metadata": {},
   "outputs": [],
   "source": [
    "# Setting up dataframes for each of the 12 in dataset and adding a 'tripduration_in_minutes' column\n",
    "twenty_oct_df = pd.read_csv(twenty_oct_data)\n",
    "twenty_oct_df.reset_index(inplace = True)\n",
    "twenty_oct_df['tripduration_in_minutes'] = twenty_oct_df['tripduration'] / 60\n",
    "\n",
    "twenty_jul_df = pd.read_csv(twenty_jul_data)\n",
    "twenty_jul_df.reset_index(inplace = True)\n",
    "twenty_jul_df['tripduration_in_minutes'] = twenty_jul_df['tripduration'] / 60\n",
    "\n",
    "twenty_apr_df = pd.read_csv(twenty_apr_data)\n",
    "twenty_apr_df.reset_index(inplace = True)\n",
    "twenty_apr_df['tripduration_in_minutes'] = twenty_apr_df['tripduration'] / 60\n",
    "\n",
    "twenty_jan_df = pd.read_csv(twenty_jan_data)\n",
    "twenty_jan_df.reset_index(inplace = True)\n",
    "twenty_jan_df['tripduration_in_minutes'] = twenty_jan_df['tripduration'] / 60\n",
    "\n",
    "nineteen_oct_df = pd.read_csv(nineteen_oct_data)\n",
    "nineteen_oct_df.reset_index(inplace = True)\n",
    "nineteen_oct_df['tripduration_in_minutes'] = nineteen_oct_df['tripduration'] / 60\n",
    "\n",
    "nineteen_jul_df = pd.read_csv(nineteen_jul_data)\n",
    "nineteen_jul_df.reset_index(inplace = True)\n",
    "nineteen_jul_df['tripduration_in_minutes'] = nineteen_jul_df['tripduration'] / 60\n",
    "\n",
    "nineteen_apr_df = pd.read_csv(nineteen_apr_data)\n",
    "nineteen_apr_df.reset_index(inplace = True)\n",
    "nineteen_apr_df['tripduration_in_minutes'] = nineteen_apr_df['tripduration'] / 60\n",
    "\n",
    "nineteen_jan_df = pd.read_csv(nineteen_jan_data)\n",
    "nineteen_jan_df.reset_index(inplace = True)\n",
    "nineteen_jan_df['tripduration_in_minutes'] = nineteen_jan_df['tripduration'] / 60\n",
    "\n",
    "eighteen_oct_df = pd.read_csv(eighteen_oct_data)\n",
    "eighteen_oct_df.reset_index(inplace = True)\n",
    "eighteen_oct_df['tripduration_in_minutes'] = eighteen_oct_df['tripduration'] / 60\n",
    "\n",
    "eighteen_jul_df = pd.read_csv(eighteen_jul_data)\n",
    "eighteen_jul_df.reset_index(inplace = True)\n",
    "eighteen_jul_df['tripduration_in_minutes'] = eighteen_jul_df['tripduration'] / 60\n",
    "\n",
    "eighteen_apr_df = pd.read_csv(eighteen_apr_data)\n",
    "eighteen_apr_df.reset_index(inplace = True)\n",
    "eighteen_apr_df['tripduration_in_minutes'] = eighteen_apr_df['tripduration'] / 60\n",
    "\n",
    "eighteen_jan_df = pd.read_csv(eighteen_jan_data)\n",
    "eighteen_jan_df.reset_index(inplace = True)\n",
    "eighteen_jan_df['tripduration_in_minutes'] = eighteen_jan_df['tripduration'] / 60"
   ]
  },
  {
   "cell_type": "code",
   "execution_count": 194,
   "metadata": {},
   "outputs": [
    {
     "data": {
      "text/plain": [
       "635295"
      ]
     },
     "execution_count": 194,
     "metadata": {},
     "output_type": "execute_result"
    }
   ],
   "source": [
    "# Removing outliers from each month's dataset\n",
    "twenty_oct_df_long = twenty_oct_df.loc[(twenty_oct_df[\"tripduration_in_minutes\"] < 38)]\n",
    "\n",
    "twenty_jul_df_long = twenty_jul_df.loc[(twenty_jul_df[\"tripduration_in_minutes\"] < 47)]\n",
    "\n",
    "twenty_apr_df_long = twenty_apr_df.loc[(twenty_apr_df[\"tripduration_in_minutes\"] < 54)]\n",
    "\n",
    "twenty_jan_df_long = twenty_jan_df.loc[(twenty_jan_df[\"tripduration_in_minutes\"] < 23)]\n",
    "\n",
    "nineteen_oct_df_long = nineteen_oct_df.loc[(nineteen_oct_df[\"tripduration_in_minutes\"] < 29)]\n",
    "\n",
    "nineteen_jul_df_long = nineteen_jul_df.loc[(nineteen_jul_df[\"tripduration_in_minutes\"] < 33)]\n",
    "\n",
    "nineteen_apr_df_long = nineteen_apr_df.loc[(nineteen_apr_df[\"tripduration_in_minutes\"] < 29)]\n",
    "\n",
    "nineteen_jan_df_long = nineteen_jan_df.loc[(nineteen_jan_df[\"tripduration_in_minutes\"] < 21)]\n",
    "\n",
    "eighteen_oct_df_long = eighteen_oct_df.loc[(eighteen_oct_df[\"tripduration_in_minutes\"] < 28)]\n",
    "\n",
    "eighteen_jul_df_long = eighteen_jul_df.loc[(eighteen_jul_df[\"tripduration_in_minutes\"] < 33)]\n",
    "\n",
    "eighteen_apr_df_long = eighteen_apr_df.loc[(eighteen_apr_df[\"tripduration_in_minutes\"] < 28)]\n",
    "\n",
    "eighteen_jan_df_long = eighteen_jan_df.loc[(eighteen_jan_df[\"tripduration_in_minutes\"] < 21)]"
   ]
  },
  {
   "cell_type": "code",
   "execution_count": 195,
   "metadata": {},
   "outputs": [
    {
     "data": {
      "text/plain": [
       "<matplotlib.axes._subplots.AxesSubplot at 0x1c07adecd48>"
      ]
     },
     "execution_count": 195,
     "metadata": {},
     "output_type": "execute_result"
    },
    {
     "data": {
      "image/png": "[encoded data removed]",
      "text/plain": [
       "<Figure size 432x288 with 1 Axes>"
      ]
     },
     "metadata": {
      "needs_background": "light"
     },
     "output_type": "display_data"
    }
   ],
   "source": [
    "# Boxplot to identify outliers\n",
    "eighteen_jan_df_long.boxplot('tripduration_in_minutes')"
   ]
  },
  {
   "cell_type": "code",
   "execution_count": 205,
   "metadata": {},
   "outputs": [],
   "source": [
    "# Sampling each of the datasets\n",
    "twenty_oct_df_sample = twenty_oct_df_long.sample(n=500000, random_state=1)\n",
    "twenty_jul_df_sample = twenty_jul_df_long.sample(n=500000, random_state=1)\n",
    "twenty_apr_df_sample = twenty_apr_df_long.sample(n=500000, random_state=1)\n",
    "twenty_jan_df_sample = twenty_jan_df_long.sample(n=500000, random_state=1)\n",
    "nineteen_oct_df_sample = nineteen_oct_df_long.sample(n=500000, random_state=1)\n",
    "nineteen_jul_df_sample = nineteen_jul_df_long.sample(n=500000, random_state=1)\n",
    "nineteen_apr_df_sample = nineteen_apr_df_long.sample(n=500000, random_state=1)\n",
    "nineteen_jan_df_sample = nineteen_jan_df_long.sample(n=500000, random_state=1)\n",
    "eighteen_oct_df_sample = eighteen_oct_df_long.sample(n=500000, random_state=1)\n",
    "eighteen_jul_df_sample = eighteen_jul_df_long.sample(n=500000, random_state=1)\n",
    "eighteen_apr_df_sample = eighteen_apr_df_long.sample(n=500000, random_state=1)\n",
    "eighteen_jan_df_sample = eighteen_jan_df_long.sample(n=500000, random_state=1)"
   ]
  },
  {
   "cell_type": "code",
   "execution_count": 206,
   "metadata": {},
   "outputs": [],
   "source": [
    "# Union datasets into one and exporting to CSV\n",
    "frames = [twenty_oct_df_sample, twenty_jul_df_sample, twenty_apr_df_sample, twenty_jan_df_sample,\n",
    "         nineteen_oct_df_sample, nineteen_jul_df_sample, nineteen_apr_df_sample, nineteen_jan_df_sample,\n",
    "         eighteen_oct_df_sample, eighteen_jul_df_sample, eighteen_apr_df_sample, eighteen_jan_df_sample]\n",
    "\n",
    "final_bike_df = pd.concat(frames)\n",
    "\n",
    "final_bike_df.to_csv('Resources/Sample_Data/final_bike_dataframe.csv', index=False)"
   ]
  }
 ],
 "metadata": {
  "kernelspec": {
   "display_name": "Python 3",
   "language": "python",
   "name": "python3"
  },
  "language_info": {
   "codemirror_mode": {
    "name": "ipython",
    "version": 3
   },
   "file_extension": ".py",
   "mimetype": "text/x-python",
   "name": "python",
   "nbconvert_exporter": "python",
   "pygments_lexer": "ipython3",
   "version": "3.7.6"
  }
 },
 "nbformat": 4,
 "nbformat_minor": 4
}
